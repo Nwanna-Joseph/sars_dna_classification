{
  "nbformat": 4,
  "nbformat_minor": 0,
  "metadata": {
    "colab": {
      "name": "Kernel_Kaggle_SARS_DNA.ipynb",
      "provenance": [],
      "authorship_tag": "ABX9TyPhrp3P6wKcDn0lq0bj4DwU",
      "include_colab_link": true
    },
    "kernelspec": {
      "name": "python3",
      "display_name": "Python 3"
    },
    "language_info": {
      "name": "python"
    }
  },
  "cells": [
    {
      "cell_type": "markdown",
      "metadata": {
        "id": "view-in-github",
        "colab_type": "text"
      },
      "source": [
        "<a href=\"https://colab.research.google.com/github/Nwanna-Joseph/sars_dna_classification/blob/main/Kernel_Kaggle_SARS_DNA.ipynb\" target=\"_parent\"><img src=\"https://colab.research.google.com/assets/colab-badge.svg\" alt=\"Open In Colab\"/></a>"
      ]
    },
    {
      "cell_type": "code",
      "execution_count": null,
      "metadata": {
        "id": "xFYREVQfaUQW"
      },
      "outputs": [],
      "source": [
        ""
      ]
    }
  ]
}